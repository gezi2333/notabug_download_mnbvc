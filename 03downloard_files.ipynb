{
 "cells": [
  {
   "cell_type": "code",
   "execution_count": 3,
   "metadata": {},
   "outputs": [],
   "source": [
    "import os\n",
    "import glob"
   ]
  },
  {
   "cell_type": "code",
   "execution_count": 4,
   "metadata": {},
   "outputs": [],
   "source": [
    "with open(\"zip_urls.txt\", \"r\") as file:\n",
    "    download_urls = [line.strip() for line in file]\n",
    "folder_path = './zip_files'"
   ]
  },
  {
   "cell_type": "code",
   "execution_count": null,
   "metadata": {},
   "outputs": [],
   "source": [
    "now = 0 # 可能因为网络原因需要多次下载\n",
    "download_urls[now]"
   ]
  },
  {
   "cell_type": "code",
   "execution_count": null,
   "metadata": {},
   "outputs": [],
   "source": [
    "for i, download_url in enumerate(download_urls):\n",
    "    if now <= i:\n",
    "        file_path = folder_path + '/' + '/'.join(download_url.split(sep='/')[3:5]) \n",
    "        os.makedirs(file_path, exist_ok=True)\n",
    "        os.system('wget -q -P ' + file_path + ' ' + download_url)\n",
    "        print(download_url)"
   ]
  },
  {
   "cell_type": "code",
   "execution_count": 8,
   "metadata": {},
   "outputs": [
    {
     "name": "stdout",
     "output_type": "stream",
     "text": [
      "https://notabug.org/Shadwoo/Dotfiles/archive/master.zip\n",
      "https://notabug.org/xinyu/2/archive/master.zip\n",
      "https://notabug.org/xinyu/ruisi888/archive/master.zip\n",
      "https://notabug.org/xinyu/xxm/archive/master.zip\n",
      "https://notabug.org/downadow/makexm2c/archive/master.zip\n",
      "https://notabug.org/Damirck/Minecraft-Server/archive/master.zip\n",
      "https://notabug.org/madpickle/Morphic.js_test/archive/master.zip\n",
      "https://notabug.org/Chirikumbrah/helix/archive/master.zip\n",
      "https://notabug.org/xinyu/keke9088/archive/main.zip\n",
      "https://notabug.org/madpickle/Morphic.js-docs/archive/master.zip\n",
      "https://notabug.org/madpickle/ethereal/archive/master.zip\n",
      "https://notabug.org/madpickle/TurboSnap/archive/master.zip\n",
      "https://notabug.org/decentralized/Ubuntu-Install/archive/master.zip\n",
      "https://notabug.org/xinyu/qizhen15800/archive/master.zip\n",
      "https://notabug.org/peterlane/advent-of-code/archive/trunk.zip\n"
     ]
    }
   ],
   "source": [
    "# 由于网络原因,有可能一次下载并不成功,需要再次检查\n",
    "def check_folder(path):\n",
    "    if not os.path.exists(path):\n",
    "        #print(\"No folder exists:\" + path)\n",
    "        return 1\n",
    "    else:\n",
    "        # 检查文件夹里是否有zip文件\n",
    "        zip_files = glob.glob(os.path.join(path, '*.zip'))\n",
    "        if not zip_files:\n",
    "            # print(\"No zip file:\" + path)  # 文件夹存在但没有zip文件\n",
    "            return 2\n",
    "        else:\n",
    "            return 0\n",
    "\n",
    "folder_path = './zip_files'\n",
    "for i, download_url in enumerate(download_urls):\n",
    "    file_path = folder_path + '/' + '/'.join(download_url.split(sep='/')[3:5])\n",
    "    if check_folder(file_path) == 2:\n",
    "        os.system('wget -q -P ' + file_path + ' ' + download_url)\n",
    "        print(download_url)\n"
   ]
  }
 ],
 "metadata": {
  "kernelspec": {
   "display_name": "deepLearning",
   "language": "python",
   "name": "python3"
  },
  "language_info": {
   "codemirror_mode": {
    "name": "ipython",
    "version": 3
   },
   "file_extension": ".py",
   "mimetype": "text/x-python",
   "name": "python",
   "nbconvert_exporter": "python",
   "pygments_lexer": "ipython3",
   "version": "3.10.12"
  }
 },
 "nbformat": 4,
 "nbformat_minor": 2
}
